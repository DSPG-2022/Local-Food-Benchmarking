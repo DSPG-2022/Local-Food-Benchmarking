{
 "cells": [
  {
   "cell_type": "code",
   "execution_count": 3,
   "id": "2174b979",
   "metadata": {},
   "outputs": [],
   "source": [
    "import pandas as pd\n",
    "\n",
    "fruit_2016_2017 = pd.read_excel(\"fruit prices 2016 - 2017.xlsx\")\n",
    "fruit_2018_2019 = pd.read_excel(\"fruit prices 2018 - 2019.xlsx\")\n",
    "fruit_2020_2021 = pd.read_excel(\"fruit prices 2020 - 2021.xlsx\")\n",
    "\n",
    "vegetable_2016_2017 = pd.read_excel(\"vegetable prices 2016 - 2017.xlsx\")\n",
    "vegetable_2018_2019 = pd.read_excel(\"vegetable prices 2016 - 2017.xlsx\")\n",
    "vegetable_2020_2021 = pd.read_excel(\"vegetable prices 2016 - 2017.xlsx\")"
   ]
  },
  {
   "cell_type": "code",
   "execution_count": 4,
   "id": "8ad749c9",
   "metadata": {},
   "outputs": [],
   "source": [
    "master_list = pd.concat([fruit_2016_2017, fruit_2018_2019, fruit_2020_2021, vegetable_2016_2017, \n",
    "                         vegetable_2018_2019, vegetable_2020_2021], ignore_index=True)"
   ]
  },
  {
   "cell_type": "code",
   "execution_count": 9,
   "id": "ab6c93f7",
   "metadata": {},
   "outputs": [],
   "source": [
    "writer = pd.ExcelWriter(\"master_price_list.xlsx\")\n",
    "master_list.to_excel(writer)\n",
    "writer.save()"
   ]
  },
  {
   "cell_type": "code",
   "execution_count": null,
   "id": "abc6c1a1",
   "metadata": {},
   "outputs": [],
   "source": []
  }
 ],
 "metadata": {
  "kernelspec": {
   "display_name": "Python 3",
   "language": "python",
   "name": "python3"
  },
  "language_info": {
   "codemirror_mode": {
    "name": "ipython",
    "version": 3
   },
   "file_extension": ".py",
   "mimetype": "text/x-python",
   "name": "python",
   "nbconvert_exporter": "python",
   "pygments_lexer": "ipython3",
   "version": "3.8.8"
  }
 },
 "nbformat": 4,
 "nbformat_minor": 5
}
