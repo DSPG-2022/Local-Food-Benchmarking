{
  "nbformat": 4,
  "nbformat_minor": 0,
  "metadata": {
    "colab": {
      "name": "foodcoop_scrape.ipynb",
      "provenance": [],
      "collapsed_sections": []
    },
    "kernelspec": {
      "name": "python3",
      "display_name": "Python 3"
    },
    "language_info": {
      "name": "python"
    }
  },
  "cells": [
    {
      "cell_type": "code",
      "source": [
        "from bs4 import BeautifulSoup\n",
        "import requests\n",
        "import pandas as pd\n",
        "\n",
        "html_text = requests.get(\"https://www.foodcoop.com/produce/\").text\n",
        "soup = BeautifulSoup(html_text, \"lxml\")\n",
        "items = soup.find_all('td', class_ = 'col-sm-4')\n",
        "\n",
        "dfObj = pd.DataFrame(columns = [\"Item Name\", \"Unit of Measurement\", 'Price'])\n",
        "\n",
        "for item in items:\n",
        "  item_name = item.find('div', class_ = \"col-sm-12 col-xs-6\").text\n",
        "  item_unit = item.find(\"div\", class_ = \"pbasis\").text\n",
        "  item_price = item.find(\"div\", class_ = \"visible-xs-block col-xs-6\").text\n",
        "  item_price_list = item_price.split()\n",
        "  #item_price = item_price_list[1] + item_price_list[0]\n",
        "  item_price = item_price_list[0]\n",
        "\n",
        "\n",
        "  dfObj = dfObj.append({\"Item Name\": item_name, \"Unit of Measurement\": item_unit, \"Price\": item_price},\n",
        "                       ignore_index = True)"
      ],
      "metadata": {
        "id": "ygIsL9gISDcA"
      },
      "execution_count": 36,
      "outputs": []
    },
    {
      "cell_type": "code",
      "source": [
        "file_name = 'FoodCoop_sheet.xlsx'\n",
        "  \n",
        "# saving the excelsheet\n",
        "dfObj.to_excel(file_name)"
      ],
      "metadata": {
        "id": "UL-i7jVMyqcf"
      },
      "execution_count": 38,
      "outputs": []
    }
  ]
}